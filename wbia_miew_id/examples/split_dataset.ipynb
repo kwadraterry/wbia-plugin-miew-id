{
 "cells": [
  {
   "cell_type": "code",
   "execution_count": 1,
   "id": "2bb57c03-d165-422e-afa7-021856dbb0d4",
   "metadata": {},
   "outputs": [],
   "source": [
    "import os\n",
    "import pandas as pd\n",
    "\n",
    "from wbia_miew_id.helpers import split_df"
   ]
  },
  {
   "cell_type": "code",
   "execution_count": 2,
   "id": "4ccf6f5b-a8b5-43cb-94ee-e2946dbfce0f",
   "metadata": {},
   "outputs": [],
   "source": [
    "df_annot = pd.read_csv('beluga_example_miewid/annotations.csv')"
   ]
  },
  {
   "cell_type": "code",
   "execution_count": 3,
   "id": "820b50cd-d103-419d-ab78-8c5a473ca19e",
   "metadata": {
    "scrolled": true
   },
   "outputs": [
    {
     "data": {
      "text/html": [
       "<div>\n",
       "<style scoped>\n",
       "    .dataframe tbody tr th:only-of-type {\n",
       "        vertical-align: middle;\n",
       "    }\n",
       "\n",
       "    .dataframe tbody tr th {\n",
       "        vertical-align: top;\n",
       "    }\n",
       "\n",
       "    .dataframe thead th {\n",
       "        text-align: right;\n",
       "    }\n",
       "</style>\n",
       "<table border=\"1\" class=\"dataframe\">\n",
       "  <thead>\n",
       "    <tr style=\"text-align: right;\">\n",
       "      <th></th>\n",
       "      <th>theta</th>\n",
       "      <th>viewpoint</th>\n",
       "      <th>name</th>\n",
       "      <th>file_name</th>\n",
       "      <th>species</th>\n",
       "      <th>file_path</th>\n",
       "      <th>x</th>\n",
       "      <th>y</th>\n",
       "      <th>w</th>\n",
       "      <th>h</th>\n",
       "    </tr>\n",
       "  </thead>\n",
       "  <tbody>\n",
       "    <tr>\n",
       "      <th>0</th>\n",
       "      <td>0</td>\n",
       "      <td>right</td>\n",
       "      <td>411</td>\n",
       "      <td>000000000001.jpg</td>\n",
       "      <td>beluga_whale</td>\n",
       "      <td>/datasets/beluga-440/000000000001.jpg</td>\n",
       "      <td>0</td>\n",
       "      <td>0</td>\n",
       "      <td>70</td>\n",
       "      <td>440</td>\n",
       "    </tr>\n",
       "    <tr>\n",
       "      <th>1</th>\n",
       "      <td>0</td>\n",
       "      <td>right</td>\n",
       "      <td>698</td>\n",
       "      <td>000000000002.jpg</td>\n",
       "      <td>beluga_whale</td>\n",
       "      <td>/datasets/beluga-440/000000000002.jpg</td>\n",
       "      <td>0</td>\n",
       "      <td>0</td>\n",
       "      <td>91</td>\n",
       "      <td>440</td>\n",
       "    </tr>\n",
       "    <tr>\n",
       "      <th>2</th>\n",
       "      <td>0</td>\n",
       "      <td>right</td>\n",
       "      <td>700</td>\n",
       "      <td>000000000003.jpg</td>\n",
       "      <td>beluga_whale</td>\n",
       "      <td>/datasets/beluga-440/000000000003.jpg</td>\n",
       "      <td>0</td>\n",
       "      <td>0</td>\n",
       "      <td>93</td>\n",
       "      <td>440</td>\n",
       "    </tr>\n",
       "    <tr>\n",
       "      <th>3</th>\n",
       "      <td>0</td>\n",
       "      <td>right</td>\n",
       "      <td>340</td>\n",
       "      <td>000000000008.jpg</td>\n",
       "      <td>beluga_whale</td>\n",
       "      <td>/datasets/beluga-440/000000000008.jpg</td>\n",
       "      <td>0</td>\n",
       "      <td>0</td>\n",
       "      <td>113</td>\n",
       "      <td>440</td>\n",
       "    </tr>\n",
       "    <tr>\n",
       "      <th>4</th>\n",
       "      <td>0</td>\n",
       "      <td>right</td>\n",
       "      <td>340</td>\n",
       "      <td>000000000009.jpg</td>\n",
       "      <td>beluga_whale</td>\n",
       "      <td>/datasets/beluga-440/000000000009.jpg</td>\n",
       "      <td>0</td>\n",
       "      <td>0</td>\n",
       "      <td>102</td>\n",
       "      <td>440</td>\n",
       "    </tr>\n",
       "  </tbody>\n",
       "</table>\n",
       "</div>"
      ],
      "text/plain": [
       "   theta viewpoint  name         file_name       species  \\\n",
       "0      0     right   411  000000000001.jpg  beluga_whale   \n",
       "1      0     right   698  000000000002.jpg  beluga_whale   \n",
       "2      0     right   700  000000000003.jpg  beluga_whale   \n",
       "3      0     right   340  000000000008.jpg  beluga_whale   \n",
       "4      0     right   340  000000000009.jpg  beluga_whale   \n",
       "\n",
       "                               file_path  x  y    w    h  \n",
       "0  /datasets/beluga-440/000000000001.jpg  0  0   70  440  \n",
       "1  /datasets/beluga-440/000000000002.jpg  0  0   91  440  \n",
       "2  /datasets/beluga-440/000000000003.jpg  0  0   93  440  \n",
       "3  /datasets/beluga-440/000000000008.jpg  0  0  113  440  \n",
       "4  /datasets/beluga-440/000000000009.jpg  0  0  102  440  "
      ]
     },
     "execution_count": 3,
     "metadata": {},
     "output_type": "execute_result"
    }
   ],
   "source": [
    "df_annot.head()"
   ]
  },
  {
   "cell_type": "code",
   "execution_count": 4,
   "id": "635a5c6a-a683-4ef0-94b5-214646390d3f",
   "metadata": {},
   "outputs": [
    {
     "name": "stdout",
     "output_type": "stream",
     "text": [
      "Filtering...\n",
      "Before filtering: 6055 annotations\n",
      "After filtering: 5906 annotations\n",
      "\n",
      "--------------------------------------------------\n",
      "\n",
      "Calculating stats for combined subsets\n",
      "** cross-set stats **\n",
      "\n",
      "- Counts: \n",
      "Number of annotations - total:  5906\n",
      "number of individuals in train:  370\n",
      "number of annotations in train:  3999\n",
      "\n",
      "number of individuals in test:  263\n",
      "number of annotations in test:  933\n",
      "\n",
      "number of individuals in val:  263\n",
      "number of annotations in val:  974\n",
      "\n",
      "train ratio:  0.6771080257365392\n",
      "average number of annotations per individual in train: 10.81\n",
      "average number of annotations per individual in test: 3.55\n",
      "average number of annotations per individual in val: 3.70\n",
      "\n",
      "- New individuals: \n",
      "number of new (unseen) individuals in test: 133\n",
      "ratio of new names to all individuals in test: 0.51\n",
      "\n",
      "number of new (unseen) individuals in val: 130\n",
      "ratio of new names to all individuals in val: 0.49\n",
      "- Individuals in sets: \n",
      "number of overlapping individuals in train & test: 130\n",
      "ratio of overlapping names to total individuals in train: 0.35\n",
      "ratio of overlapping names to total individuals in test: 0.49\n",
      "Number of annotations in train for overlapping individuals with test:  565\n",
      "Number of annotations in test for overlapping individuals with train:  569\n",
      "ratio of annotations in test for overlapping individuals with train:  0.5017636684303352\n",
      "number of overlapping individuals in train & val: 133\n",
      "ratio of overlapping names to total individuals in train: 0.36\n",
      "ratio of overlapping names to total individuals in val: 0.51\n",
      "Number of annotations in train for overlapping individuals with val:  624\n",
      "Number of annotations in val for overlapping individuals with train:  621\n",
      "ratio of annotations in val for overlapping individuals with train:  0.4987951807228916\n"
     ]
    }
   ],
   "source": [
    "df_tr, df_te, df_val = split_df(df_annot, train_ratio=0.7, unseen_ratio=0.5, is_val=True, stratify_col='name', print_key='name', verbose=True, random_state=0)"
   ]
  },
  {
   "cell_type": "code",
   "execution_count": 5,
   "id": "923201e1-54e4-42db-8822-351d0f175734",
   "metadata": {},
   "outputs": [],
   "source": [
    "os.makedirs('beluga_example_miewid/splits', exist_ok=True)\n",
    "\n",
    "df_tr.to_csv('beluga_example_miewid/splits/train.csv')\n",
    "df_val.to_csv('beluga_example_miewid/splits/val.csv')\n",
    "df_te.to_csv('beluga_example_miewid/splits/test.csv')"
   ]
  },
  {
   "cell_type": "code",
   "execution_count": null,
   "id": "65ecbd63-31e6-4a7f-8077-f788ab59a195",
   "metadata": {},
   "outputs": [],
   "source": []
  },
  {
   "cell_type": "code",
   "execution_count": null,
   "id": "ea84ddb6-c44c-46ee-b360-c825ebc9d1e7",
   "metadata": {},
   "outputs": [],
   "source": []
  },
  {
   "cell_type": "code",
   "execution_count": null,
   "id": "5899a809-0d41-4c68-9720-b4ec123e9ece",
   "metadata": {},
   "outputs": [],
   "source": []
  },
  {
   "cell_type": "code",
   "execution_count": null,
   "id": "2c91530d-d0be-4f48-a02c-844a034551ad",
   "metadata": {},
   "outputs": [],
   "source": []
  }
 ],
 "metadata": {
  "kernelspec": {
   "display_name": "Python 3 (ipykernel)",
   "language": "python",
   "name": "python3"
  },
  "language_info": {
   "codemirror_mode": {
    "name": "ipython",
    "version": 3
   },
   "file_extension": ".py",
   "mimetype": "text/x-python",
   "name": "python",
   "nbconvert_exporter": "python",
   "pygments_lexer": "ipython3",
   "version": "3.10.13"
  }
 },
 "nbformat": 4,
 "nbformat_minor": 5
}
