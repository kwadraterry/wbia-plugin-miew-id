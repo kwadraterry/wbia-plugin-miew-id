{
 "cells": [
  {
   "cell_type": "code",
   "execution_count": 12,
   "id": "2fbe73d6-5142-4b70-a2d7-d6b56a4c5482",
   "metadata": {},
   "outputs": [],
   "source": [
    "import torch\n",
    "\n",
    "from wbia_miew_id.evaluate import Evaluator\n",
    "\n",
    "from transformers import AutoModel"
   ]
  },
  {
   "cell_type": "markdown",
   "id": "bcac49ce-6a13-4a5f-a079-a1e2023927f8",
   "metadata": {},
   "source": [
    "### Evaluate using local checkpoint"
   ]
  },
  {
   "cell_type": "code",
   "execution_count": 47,
   "id": "6c0672ef-8f4c-420d-9703-b872d2b5f0f3",
   "metadata": {},
   "outputs": [],
   "source": [
    "model_params = {\n",
    " 'model_name': 'efficientnetv2_rw_m',\n",
    " 'use_fc': False,\n",
    " 'fc_dim': 2048,\n",
    " 'dropout': 0,\n",
    " 'loss_module': 'arcface_subcenter_dynamic',\n",
    " 's': 51.960399844266306,\n",
    " 'margin': 0.32841442327915477,\n",
    " 'pretrained': True,\n",
    " 'n_classes': 11968,\n",
    " 'k': 3\n",
    "}"
   ]
  },
  {
   "cell_type": "code",
   "execution_count": 54,
   "id": "97a0d91e-7bff-41e8-85d4-20839c471992",
   "metadata": {},
   "outputs": [
    {
     "name": "stdout",
     "output_type": "stream",
     "text": [
      "Building Model Backbone for efficientnetv2_rw_m model\n",
      "loaded checkpoint from beluga_example_miewid/benchmark_model/miew_id.msv2_all.bin\n"
     ]
    }
   ],
   "source": [
    "evaluator = Evaluator(\n",
    "    device=torch.device('cuda'),\n",
    "    seed=0,\n",
    "    anno_path='beluga_example_miewid/benchmark_splits/test.csv',\n",
    "    name_keys=['name'],\n",
    "    viewpoint_list=None,\n",
    "    use_full_image_path=True,\n",
    "    images_dir=None,\n",
    "    image_size=(440, 440),\n",
    "    crop_bbox=True,\n",
    "    valid_batch_size=12,\n",
    "    num_workers=8,\n",
    "    eval_groups=[['species', 'viewpoint']],\n",
    "    fliplr=False,\n",
    "    fliplr_view=[],\n",
    "    n_filter_min=2,\n",
    "    n_subsample_max=10,\n",
    "    model_params=model_params,\n",
    "    checkpoint_path='beluga_example_miewid/benchmark_model/miew_id.msv2_all.bin',\n",
    "    model=None,\n",
    "    visualize=False,\n",
    "    visualization_output_dir='beluga_example_visualizations'\n",
    ")"
   ]
  },
  {
   "cell_type": "code",
   "execution_count": 55,
   "id": "7a7af674-7f28-4d1a-916e-262437efc19c",
   "metadata": {},
   "outputs": [
    {
     "name": "stdout",
     "output_type": "stream",
     "text": [
      "      849 annotations remain after filtering by min 2 per name_species\n",
      "      849 annotations remain after subsampling by max 10 per name_species\n"
     ]
    },
    {
     "data": {
      "application/vnd.jupyter.widget-view+json": {
       "model_id": "4d4ec0443fb64ff68a45a93b784b5957",
       "version_major": 2,
       "version_minor": 0
      },
      "text/plain": [
       "  0%|          | 0/71 [00:00<?, ?it/s]"
      ]
     },
     "metadata": {},
     "output_type": "display_data"
    },
    {
     "name": "stdout",
     "output_type": "stream",
     "text": [
      "Computing CMC and mAP ...\n",
      "Computed rank metrics on 849 examples\n",
      "** Avg Results **\n",
      "mAP: 61.4%\n",
      "CMC curve\n",
      "Rank-1  : 71.8%\n",
      "Rank-5  : 81.6%\n",
      "Rank-10 : 85.5%\n",
      "Rank-20 : 89.3%\n",
      "** Calculating groupwise evaluation scores **\n",
      "* Evaluating group: ('beluga_whale', 'up')\n",
      "849\n",
      "      849 annotations remain after filtering by min 2 per name_species\n",
      "      849 annotations remain after subsampling by max 10 per name_species\n"
     ]
    },
    {
     "data": {
      "application/vnd.jupyter.widget-view+json": {
       "model_id": "bdd0042afd9740499f063ae823e546d3",
       "version_major": 2,
       "version_minor": 0
      },
      "text/plain": [
       "  0%|          | 0/71 [00:00<?, ?it/s]"
      ]
     },
     "metadata": {},
     "output_type": "display_data"
    },
    {
     "name": "stdout",
     "output_type": "stream",
     "text": [
      "Computing CMC and mAP ...\n",
      "Computed rank metrics on 849 examples\n",
      "** Avg Results **\n",
      "mAP: 61.4%\n",
      "CMC curve\n",
      "Rank-1  : 71.8%\n",
      "Rank-5  : 81.6%\n",
      "Rank-10 : 85.5%\n",
      "Rank-20 : 89.3%\n"
     ]
    },
    {
     "data": {
      "text/plain": [
       "0.613609790802002"
      ]
     },
     "execution_count": 55,
     "metadata": {},
     "output_type": "execute_result"
    }
   ],
   "source": [
    "evaluator.evaluate()"
   ]
  },
  {
   "cell_type": "code",
   "execution_count": null,
   "id": "5260005c-f0fb-44a8-8827-f0756178cc8d",
   "metadata": {},
   "outputs": [],
   "source": []
  },
  {
   "cell_type": "markdown",
   "id": "b81f0752-da37-4ebe-84a7-cd2ea454044f",
   "metadata": {},
   "source": [
    "### Evaluate a public model"
   ]
  },
  {
   "cell_type": "code",
   "execution_count": 9,
   "id": "bb713aa6-61ce-446e-8b16-c4ff7e7580b4",
   "metadata": {},
   "outputs": [],
   "source": [
    "model_tag = f\"conservationxlabs/miewid-msv2\""
   ]
  },
  {
   "cell_type": "code",
   "execution_count": 10,
   "id": "fbac3dbb-b13f-4d1b-ba79-a7f21957273a",
   "metadata": {},
   "outputs": [
    {
     "data": {
      "application/vnd.jupyter.widget-view+json": {
       "model_id": "fdb16891cdf14862910e429e8b147de5",
       "version_major": 2,
       "version_minor": 0
      },
      "text/plain": [
       "config.json:   0%|          | 0.00/523 [00:00<?, ?B/s]"
      ]
     },
     "metadata": {},
     "output_type": "display_data"
    },
    {
     "data": {
      "application/vnd.jupyter.widget-view+json": {
       "model_id": "bc82f074ec634429ab2ecd841f88d7bc",
       "version_major": 2,
       "version_minor": 0
      },
      "text/plain": [
       "configuration_miewid.py:   0%|          | 0.00/777 [00:00<?, ?B/s]"
      ]
     },
     "metadata": {},
     "output_type": "display_data"
    },
    {
     "name": "stderr",
     "output_type": "stream",
     "text": [
      "A new version of the following files was downloaded from https://huggingface.co/conservationxlabs/miewid-msv2:\n",
      "- configuration_miewid.py\n",
      ". Make sure to double-check they do not contain any added malicious code. To avoid downloading new versions of the code file, you can pin a revision.\n"
     ]
    },
    {
     "data": {
      "application/vnd.jupyter.widget-view+json": {
       "model_id": "9b36b93d25a84f66afa72cc3f042eb9f",
       "version_major": 2,
       "version_minor": 0
      },
      "text/plain": [
       "modeling_miewid.py:   0%|          | 0.00/5.33k [00:00<?, ?B/s]"
      ]
     },
     "metadata": {},
     "output_type": "display_data"
    },
    {
     "data": {
      "application/vnd.jupyter.widget-view+json": {
       "model_id": "ca0859fdd4064babb8b7169d0553675a",
       "version_major": 2,
       "version_minor": 0
      },
      "text/plain": [
       "heads.py:   0%|          | 0.00/6.66k [00:00<?, ?B/s]"
      ]
     },
     "metadata": {},
     "output_type": "display_data"
    },
    {
     "name": "stderr",
     "output_type": "stream",
     "text": [
      "A new version of the following files was downloaded from https://huggingface.co/conservationxlabs/miewid-msv2:\n",
      "- heads.py\n",
      ". Make sure to double-check they do not contain any added malicious code. To avoid downloading new versions of the code file, you can pin a revision.\n",
      "A new version of the following files was downloaded from https://huggingface.co/conservationxlabs/miewid-msv2:\n",
      "- modeling_miewid.py\n",
      "- heads.py\n",
      ". Make sure to double-check they do not contain any added malicious code. To avoid downloading new versions of the code file, you can pin a revision.\n"
     ]
    },
    {
     "data": {
      "application/vnd.jupyter.widget-view+json": {
       "model_id": "4c2d00e2ab614bfeb48079182df044d1",
       "version_major": 2,
       "version_minor": 0
      },
      "text/plain": [
       "model.safetensors:   0%|          | 0.00/206M [00:00<?, ?B/s]"
      ]
     },
     "metadata": {},
     "output_type": "display_data"
    },
    {
     "name": "stdout",
     "output_type": "stream",
     "text": [
      "Building Model Backbone for efficientnetv2_rw_m model\n",
      "config.model_name efficientnetv2_rw_m\n",
      "model_name efficientnetv2_rw_m\n",
      "final_in_features 2152\n"
     ]
    }
   ],
   "source": [
    "# The model object will be supplied directly to the Evaluator class\n",
    "model = AutoModel.from_pretrained(model_tag, trust_remote_code=True)"
   ]
  },
  {
   "cell_type": "code",
   "id": "8390a28c-3401-4513-87be-dbadf341b3b6",
   "metadata": {},
   "outputs": [],
   "source": [
    "evaluator = Evaluator(\n",
    "    device=torch.device('cuda'),\n",
    "    seed=0,\n",
    "    anno_path='beluga_example_miewid/benchmark_splits/test.csv',\n",
    "    name_keys=['name'],\n",
    "    viewpoint_list=None,\n",
    "    use_full_image_path=True,\n",
    "    images_dir=None,\n",
    "    image_size=(440, 440),\n",
    "    crop_bbox=True,\n",
    "    valid_batch_size=12,\n",
    "    num_workers=8,\n",
    "    eval_groups=[['species', 'viewpoint']],\n",
    "    fliplr=False,\n",
    "    fliplr_view=[],\n",
    "    n_filter_min=2,\n",
    "    n_subsample_max=10,\n",
    "    model_params=None,\n",
    "    checkpoint_path=None,\n",
    "    model=model,\n",
    "    visualize=False,\n",
    "    visualization_output_dir='beluga_example_visualizations'\n",
    ")"
   ]
  },
  {
   "cell_type": "code",
   "execution_count": 14,
   "id": "81c902d0-c9a8-4b8c-9278-1ce54b19c5a3",
   "metadata": {},
   "outputs": [
    {
     "name": "stdout",
     "output_type": "stream",
     "text": [
      "      849 annotations remain after filtering by min 2 per name_species\n",
      "      849 annotations remain after subsampling by max 10 per name_species\n"
     ]
    },
    {
     "data": {
      "application/vnd.jupyter.widget-view+json": {
       "model_id": "a38f53af790942d59580d1eb22d54e15",
       "version_major": 2,
       "version_minor": 0
      },
      "text/plain": [
       "  0%|          | 0/71 [00:00<?, ?it/s]"
      ]
     },
     "metadata": {},
     "output_type": "display_data"
    },
    {
     "name": "stdout",
     "output_type": "stream",
     "text": [
      "Computing CMC and mAP ...\n",
      "Computed rank metrics on 849 examples\n",
      "** Avg Results **\n",
      "mAP: 61.0%\n",
      "CMC curve\n",
      "Rank-1  : 72.3%\n",
      "Rank-5  : 82.0%\n",
      "Rank-10 : 84.8%\n",
      "Rank-20 : 89.2%\n",
      "** Calculating groupwise evaluation scores **\n",
      "* Evaluating group: ('beluga_whale', 'up')\n",
      "849\n",
      "      849 annotations remain after filtering by min 2 per name_species\n",
      "      849 annotations remain after subsampling by max 10 per name_species\n"
     ]
    },
    {
     "data": {
      "application/vnd.jupyter.widget-view+json": {
       "model_id": "573458f438d0434cac5a436bb4777fd4",
       "version_major": 2,
       "version_minor": 0
      },
      "text/plain": [
       "  0%|          | 0/71 [00:00<?, ?it/s]"
      ]
     },
     "metadata": {},
     "output_type": "display_data"
    },
    {
     "name": "stdout",
     "output_type": "stream",
     "text": [
      "Computing CMC and mAP ...\n",
      "Computed rank metrics on 849 examples\n",
      "** Avg Results **\n",
      "mAP: 61.0%\n",
      "CMC curve\n",
      "Rank-1  : 72.3%\n",
      "Rank-5  : 82.0%\n",
      "Rank-10 : 84.8%\n",
      "Rank-20 : 89.2%\n"
     ]
    },
    {
     "data": {
      "text/plain": [
       "0.610191822052002"
      ]
     },
     "execution_count": 14,
     "metadata": {},
     "output_type": "execute_result"
    }
   ],
   "source": [
    "evaluator.evaluate()"
   ]
  },
  {
   "cell_type": "code",
   "execution_count": null,
   "id": "156c72d4-5621-475c-b083-c5a0990fa471",
   "metadata": {},
   "outputs": [],
   "source": []
  },
  {
   "cell_type": "code",
   "execution_count": null,
   "id": "ec057fc6-1bd6-45e9-af6c-ed104a65a082",
   "metadata": {},
   "outputs": [],
   "source": []
  }
 ],
 "metadata": {
  "kernelspec": {
   "display_name": "Python 3 (ipykernel)",
   "language": "python",
   "name": "python3"
  },
  "language_info": {
   "codemirror_mode": {
    "name": "ipython",
    "version": 3
   },
   "file_extension": ".py",
   "mimetype": "text/x-python",
   "name": "python",
   "nbconvert_exporter": "python",
   "pygments_lexer": "ipython3",
   "version": "3.10.13"
  }
 },
 "nbformat": 4,
 "nbformat_minor": 5
}
