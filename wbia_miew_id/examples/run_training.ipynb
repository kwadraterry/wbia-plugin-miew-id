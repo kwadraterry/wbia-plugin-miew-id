{
 "cells": [
  {
   "cell_type": "code",
   "execution_count": 1,
   "id": "9a634e14-296c-4cf5-8917-d7ce1cf4b512",
   "metadata": {
    "scrolled": true
   },
   "outputs": [],
   "source": [
    "from wbia_miew_id.helpers import get_config, formatted_string_to_yaml\n",
    "from wbia_miew_id.train import Trainer"
   ]
  },
  {
   "cell_type": "code",
   "execution_count": 2,
   "id": "ae8325be-f10a-41e5-8125-5bbb16f658ff",
   "metadata": {},
   "outputs": [],
   "source": [
    "from wbia_miew_id.helpers import yaml_to_formatted_string\n"
   ]
  },
  {
   "cell_type": "code",
   "execution_count": null,
   "id": "80ab0118-ff89-4155-b981-b658d9a2d762",
   "metadata": {},
   "outputs": [],
   "source": []
  },
  {
   "cell_type": "code",
   "execution_count": 10,
   "id": "e94743e7-c80e-4640-aff0-3440f543e361",
   "metadata": {},
   "outputs": [],
   "source": [
    "config_yaml_string = \"\"\"\n",
    "checkpoint_dir: ./runs\n",
    "comment: Beluga dataset example\n",
    "data:\n",
    "  crop_bbox: true\n",
    "  image_size:\n",
    "  - 440\n",
    "  - 440\n",
    "  images_dir: null\n",
    "  name_keys:\n",
    "  - name\n",
    "  preprocess_images:\n",
    "    apply: false\n",
    "    force_apply: false\n",
    "    preprocessed_dir: null\n",
    "  test:\n",
    "    anno_path: beluga_example_miewid/benchmark_splits/test.csv\n",
    "    checkpoint_path: beluga_example_miewid/benchmark_model/miew_id.msv2_all.bin\n",
    "    eval_groups:\n",
    "    - - species\n",
    "      - viewpoint\n",
    "    n_filter_min: 2\n",
    "    n_subsample_max: 10\n",
    "  train:\n",
    "    anno_path: beluga_example_miewid/benchmark_splits/train.csv\n",
    "    n_filter_min: 3\n",
    "    n_subsample_max: null\n",
    "  use_full_image_path: true\n",
    "  val:\n",
    "    anno_path: beluga_example_miewid/benchmark_splits/test.csv\n",
    "    n_filter_min: 2\n",
    "    n_subsample_max: 10\n",
    "  viewpoint_list: null\n",
    "engine:\n",
    "  device: cuda\n",
    "  epochs: 5\n",
    "  num_workers: 8\n",
    "  seed: 42\n",
    "  train_batch_size: 16\n",
    "  use_swa: false\n",
    "  use_wandb: true\n",
    "  valid_batch_size: 12\n",
    "exp_name: beluga-example-exp-1\n",
    "model_params:\n",
    "  dropout: 0\n",
    "  fc_dim: 2048\n",
    "  k: 3\n",
    "  loss_module: arcface_subcenter_dynamic\n",
    "  ls_eps: 0\n",
    "  margin: 0.32841442327915477\n",
    "  model_name: efficientnetv2_rw_m\n",
    "  n_classes: 11968\n",
    "  pretrained: true\n",
    "  s: 51.960399844266306\n",
    "  theta_zero: 0.785\n",
    "  use_fc: false\n",
    "project_name: miewid-training\n",
    "scheduler_params:\n",
    "  lr_decay: 0.8\n",
    "  lr_max: 0.000896858981000587\n",
    "  lr_min: 1.4135935551752292e-06\n",
    "  lr_ramp_ep: 15\n",
    "  lr_start: 4.7349893044994796e-05\n",
    "  lr_sus_ep: 0\n",
    "swa_params:\n",
    "  swa_lr: 0.03524907749683658\n",
    "  swa_start: 24\n",
    "test:\n",
    "  batch_size: 8\n",
    "  fliplr: false\n",
    "  fliplr_view: []\n",
    "\"\"\""
   ]
  },
  {
   "cell_type": "code",
   "execution_count": 11,
   "id": "34c460f0-118a-4581-b4df-a522e613458a",
   "metadata": {},
   "outputs": [
    {
     "data": {
      "text/plain": [
       "'YAML successfully written to beluga_example_miewid/model/config.yaml'"
      ]
     },
     "execution_count": 11,
     "metadata": {},
     "output_type": "execute_result"
    }
   ],
   "source": [
    "config_path = 'beluga_example_miewid/model/config.yaml'\n",
    "\n",
    "formatted_string_to_yaml(config_yaml_string, config_path)"
   ]
  },
  {
   "cell_type": "code",
   "execution_count": 12,
   "id": "6a2930ca-52ee-42f3-976f-71ea8fbb1fcd",
   "metadata": {},
   "outputs": [
    {
     "name": "stdout",
     "output_type": "stream",
     "text": [
      "Loading config from path: beluga_example_miewid/model/config.yaml\n"
     ]
    }
   ],
   "source": [
    "config = get_config(config_path)"
   ]
  },
  {
   "cell_type": "code",
   "execution_count": 13,
   "id": "d0a3b476-895c-484a-9c6b-98bdbeca6a73",
   "metadata": {},
   "outputs": [
    {
     "name": "stdout",
     "output_type": "stream",
     "text": [
      "Checkpoints will be saved at:  ./runs/miewid-training/beluga-example-exp-1\n",
      "      2767 annotations remain after filtering by min 3 per name_species\n",
      "      849 annotations remain after filtering by min 2 per name_species\n",
      "      849 annotations remain after subsampling by max 10 per name_species\n",
      "** cross-set stats **\n",
      "\n",
      " - Counts: \n",
      "     number of individuals in train:  354\n",
      "     number of annotations in train:  2767\n",
      "\n",
      "     number of individuals in test:  228\n",
      "     number of annotations in test:  849\n",
      "\n",
      "    average number of annotations per individual in train: 7.82\n",
      "    average number of annotations per individual in test: 3.72\n",
      "\n",
      " - New individuals: \n",
      "     number of new (unseen) individuals in test: 29\n",
      "    ratio of new names to all individuals in test: 0.13\n",
      "\n",
      " - Individuals in both sets: \n",
      "     number of overlapping individuals in train & test: 199\n",
      "    ratio of overlapping names to total individuals in train: 0.56\n",
      "    ratio of overlapping names to total individuals in test: 0.87\n",
      "\n",
      "WARNING: Overriding n_classes in config (11968) which is different from actual n_train_classes in the dataset - (354).\n",
      "Building Model Backbone for efficientnetv2_rw_m model\n",
      "Initializing wandb run\n",
      "exp_name: beluga-example-exp-1\n",
      "project_name: miewid-training\n"
     ]
    },
    {
     "name": "stderr",
     "output_type": "stream",
     "text": [
      "\u001b[34m\u001b[1mwandb\u001b[0m: Currently logged in as: \u001b[33mlashao\u001b[0m. Use \u001b[1m`wandb login --relogin`\u001b[0m to force relogin\n"
     ]
    },
    {
     "data": {
      "text/html": [
       "wandb version 0.17.4 is available!  To upgrade, please run:\n",
       " $ pip install wandb --upgrade"
      ],
      "text/plain": [
       "<IPython.core.display.HTML object>"
      ]
     },
     "metadata": {},
     "output_type": "display_data"
    },
    {
     "data": {
      "text/html": [
       "Tracking run with wandb version 0.16.5"
      ],
      "text/plain": [
       "<IPython.core.display.HTML object>"
      ]
     },
     "metadata": {},
     "output_type": "display_data"
    },
    {
     "data": {
      "text/html": [
       "Run data is saved locally in <code>/home/wbia-plugin-miew-id/wbia_miew_id/examples/wandb/run-20240706_004556-psep5t4t</code>"
      ],
      "text/plain": [
       "<IPython.core.display.HTML object>"
      ]
     },
     "metadata": {},
     "output_type": "display_data"
    },
    {
     "data": {
      "text/html": [
       "Syncing run <strong><a href='https://wandb.ai/lashao/miewid-training/runs/psep5t4t/workspace' target=\"_blank\">beluga-example-exp-1</a></strong> to <a href='https://wandb.ai/lashao/miewid-training' target=\"_blank\">Weights & Biases</a> (<a href='https://wandb.me/run' target=\"_blank\">docs</a>)<br/>"
      ],
      "text/plain": [
       "<IPython.core.display.HTML object>"
      ]
     },
     "metadata": {},
     "output_type": "display_data"
    },
    {
     "data": {
      "text/html": [
       " View project at <a href='https://wandb.ai/lashao/miewid-training' target=\"_blank\">https://wandb.ai/lashao/miewid-training</a>"
      ],
      "text/plain": [
       "<IPython.core.display.HTML object>"
      ]
     },
     "metadata": {},
     "output_type": "display_data"
    },
    {
     "data": {
      "text/html": [
       " View run at <a href='https://wandb.ai/lashao/miewid-training/runs/psep5t4t/workspace' target=\"_blank\">https://wandb.ai/lashao/miewid-training/runs/psep5t4t/workspace</a>"
      ],
      "text/plain": [
       "<IPython.core.display.HTML object>"
      ]
     },
     "metadata": {},
     "output_type": "display_data"
    },
    {
     "data": {
      "application/vnd.jupyter.widget-view+json": {
       "model_id": "a0cce90f2eeb4f1b953b07f2ccd0ba03",
       "version_major": 2,
       "version_minor": 0
      },
      "text/plain": [
       "  0%|          | 0/172 [00:00<?, ?it/s]"
      ]
     },
     "metadata": {},
     "output_type": "display_data"
    },
    {
     "name": "stdout",
     "output_type": "stream",
     "text": [
      "\n",
      "Getting metrics on validation set...\n",
      "Evaluating on groups\n",
      "** Calculating groupwise evaluation scores **\n",
      "* Evaluating group: ('beluga_whale', 'up')\n",
      "849\n",
      "      849 annotations remain after filtering by min 2 per name_species\n",
      "      849 annotations remain after subsampling by max 10 per name_species\n"
     ]
    },
    {
     "data": {
      "application/vnd.jupyter.widget-view+json": {
       "model_id": "94f9e4fef55a46f997a71b9e8a08ab01",
       "version_major": 2,
       "version_minor": 0
      },
      "text/plain": [
       "  0%|          | 0/71 [00:00<?, ?it/s]"
      ]
     },
     "metadata": {},
     "output_type": "display_data"
    },
    {
     "name": "stdout",
     "output_type": "stream",
     "text": [
      "Computing CMC and mAP ...\n",
      "Computed rank metrics on 849 examples\n",
      "** Avg Results **\n",
      "mAP: 3.8%\n",
      "CMC curve\n",
      "Rank-1  : 3.7%\n",
      "Rank-5  : 11.2%\n",
      "Rank-10 : 19.4%\n",
      "Rank-20 : 28.6%\n",
      "** beluga_whale-up Results **\n",
      "mAP: 3.8%\n",
      "CMC curve\n",
      "Rank-1  : 3.7%\n",
      "Rank-5  : 11.2%\n",
      "Rank-10 : 19.4%\n",
      "Rank-20 : 28.6%\n",
      "** Avg Results **\n",
      "mAP: 3.8%\n",
      "CMC curve\n",
      "Rank-1  : 3.7%\n",
      "Rank-5  : 11.2%\n",
      "Rank-10 : 19.4%\n",
      "Rank-20 : 28.6%\n",
      "Group average score:  0.03813455253839493\n",
      "best model found for epoch 0\n"
     ]
    },
    {
     "data": {
      "application/vnd.jupyter.widget-view+json": {
       "model_id": "b0c4f424c69244d9a8d2e1b032aa30d4",
       "version_major": 2,
       "version_minor": 0
      },
      "text/plain": [
       "  0%|          | 0/172 [00:00<?, ?it/s]"
      ]
     },
     "metadata": {},
     "output_type": "display_data"
    },
    {
     "name": "stdout",
     "output_type": "stream",
     "text": [
      "\n",
      "Getting metrics on validation set...\n",
      "Evaluating on groups\n",
      "** Calculating groupwise evaluation scores **\n",
      "* Evaluating group: ('beluga_whale', 'up')\n",
      "849\n",
      "      849 annotations remain after filtering by min 2 per name_species\n",
      "      849 annotations remain after subsampling by max 10 per name_species\n"
     ]
    },
    {
     "data": {
      "application/vnd.jupyter.widget-view+json": {
       "model_id": "fedbf82cd1c74108872e41aa47e12aa6",
       "version_major": 2,
       "version_minor": 0
      },
      "text/plain": [
       "  0%|          | 0/71 [00:00<?, ?it/s]"
      ]
     },
     "metadata": {},
     "output_type": "display_data"
    },
    {
     "name": "stdout",
     "output_type": "stream",
     "text": [
      "Computing CMC and mAP ...\n",
      "Computed rank metrics on 849 examples\n",
      "** Avg Results **\n",
      "mAP: 10.4%\n",
      "CMC curve\n",
      "Rank-1  : 13.1%\n",
      "Rank-5  : 31.1%\n",
      "Rank-10 : 40.8%\n",
      "Rank-20 : 51.6%\n",
      "** beluga_whale-up Results **\n",
      "mAP: 10.4%\n",
      "CMC curve\n",
      "Rank-1  : 13.1%\n",
      "Rank-5  : 31.1%\n",
      "Rank-10 : 40.8%\n",
      "Rank-20 : 51.6%\n",
      "** Avg Results **\n",
      "mAP: 10.4%\n",
      "CMC curve\n",
      "Rank-1  : 13.1%\n",
      "Rank-5  : 31.1%\n",
      "Rank-10 : 40.8%\n",
      "Rank-20 : 51.6%\n",
      "Group average score:  0.10445582866668701\n",
      "best model found for epoch 1\n"
     ]
    },
    {
     "data": {
      "application/vnd.jupyter.widget-view+json": {
       "model_id": "8a9711e902e9496aaf94eaff60a84651",
       "version_major": 2,
       "version_minor": 0
      },
      "text/plain": [
       "  0%|          | 0/172 [00:00<?, ?it/s]"
      ]
     },
     "metadata": {},
     "output_type": "display_data"
    },
    {
     "name": "stdout",
     "output_type": "stream",
     "text": [
      "\n",
      "Getting metrics on validation set...\n",
      "Evaluating on groups\n",
      "** Calculating groupwise evaluation scores **\n",
      "* Evaluating group: ('beluga_whale', 'up')\n",
      "849\n",
      "      849 annotations remain after filtering by min 2 per name_species\n",
      "      849 annotations remain after subsampling by max 10 per name_species\n"
     ]
    },
    {
     "data": {
      "application/vnd.jupyter.widget-view+json": {
       "model_id": "d6b0ffeb18844366bb6039354df70502",
       "version_major": 2,
       "version_minor": 0
      },
      "text/plain": [
       "  0%|          | 0/71 [00:00<?, ?it/s]"
      ]
     },
     "metadata": {},
     "output_type": "display_data"
    },
    {
     "name": "stdout",
     "output_type": "stream",
     "text": [
      "Computing CMC and mAP ...\n",
      "Computed rank metrics on 849 examples\n",
      "** Avg Results **\n",
      "mAP: 21.4%\n",
      "CMC curve\n",
      "Rank-1  : 29.9%\n",
      "Rank-5  : 48.3%\n",
      "Rank-10 : 57.6%\n",
      "Rank-20 : 65.8%\n",
      "** beluga_whale-up Results **\n",
      "mAP: 21.4%\n",
      "CMC curve\n",
      "Rank-1  : 29.9%\n",
      "Rank-5  : 48.3%\n",
      "Rank-10 : 57.6%\n",
      "Rank-20 : 65.8%\n",
      "** Avg Results **\n",
      "mAP: 21.4%\n",
      "CMC curve\n",
      "Rank-1  : 29.9%\n",
      "Rank-5  : 48.3%\n",
      "Rank-10 : 57.6%\n",
      "Rank-20 : 65.8%\n",
      "Group average score:  0.2138787806034088\n",
      "best model found for epoch 2\n"
     ]
    },
    {
     "data": {
      "application/vnd.jupyter.widget-view+json": {
       "model_id": "a8eb8c290209430fb57351737c5ee1ef",
       "version_major": 2,
       "version_minor": 0
      },
      "text/plain": [
       "  0%|          | 0/172 [00:00<?, ?it/s]"
      ]
     },
     "metadata": {},
     "output_type": "display_data"
    },
    {
     "name": "stdout",
     "output_type": "stream",
     "text": [
      "\n",
      "Getting metrics on validation set...\n",
      "Evaluating on groups\n",
      "** Calculating groupwise evaluation scores **\n",
      "* Evaluating group: ('beluga_whale', 'up')\n",
      "849\n",
      "      849 annotations remain after filtering by min 2 per name_species\n",
      "      849 annotations remain after subsampling by max 10 per name_species\n"
     ]
    },
    {
     "data": {
      "application/vnd.jupyter.widget-view+json": {
       "model_id": "1df9c25bb7154c29b96e11e52aad50df",
       "version_major": 2,
       "version_minor": 0
      },
      "text/plain": [
       "  0%|          | 0/71 [00:00<?, ?it/s]"
      ]
     },
     "metadata": {},
     "output_type": "display_data"
    },
    {
     "name": "stdout",
     "output_type": "stream",
     "text": [
      "Computing CMC and mAP ...\n",
      "Computed rank metrics on 849 examples\n",
      "** Avg Results **\n",
      "mAP: 33.7%\n",
      "CMC curve\n",
      "Rank-1  : 46.1%\n",
      "Rank-5  : 60.2%\n",
      "Rank-10 : 67.1%\n",
      "Rank-20 : 74.3%\n",
      "** beluga_whale-up Results **\n",
      "mAP: 33.7%\n",
      "CMC curve\n",
      "Rank-1  : 46.1%\n",
      "Rank-5  : 60.2%\n",
      "Rank-10 : 67.1%\n",
      "Rank-20 : 74.3%\n",
      "** Avg Results **\n",
      "mAP: 33.7%\n",
      "CMC curve\n",
      "Rank-1  : 46.1%\n",
      "Rank-5  : 60.2%\n",
      "Rank-10 : 67.1%\n",
      "Rank-20 : 74.3%\n",
      "Group average score:  0.3366297781467438\n",
      "best model found for epoch 3\n"
     ]
    },
    {
     "data": {
      "application/vnd.jupyter.widget-view+json": {
       "model_id": "dd2827004bbc40cfb23f2b8aeaaa8fb3",
       "version_major": 2,
       "version_minor": 0
      },
      "text/plain": [
       "  0%|          | 0/172 [00:00<?, ?it/s]"
      ]
     },
     "metadata": {},
     "output_type": "display_data"
    },
    {
     "name": "stdout",
     "output_type": "stream",
     "text": [
      "\n",
      "Getting metrics on validation set...\n",
      "Evaluating on groups\n",
      "** Calculating groupwise evaluation scores **\n",
      "* Evaluating group: ('beluga_whale', 'up')\n",
      "849\n",
      "      849 annotations remain after filtering by min 2 per name_species\n",
      "      849 annotations remain after subsampling by max 10 per name_species\n"
     ]
    },
    {
     "data": {
      "application/vnd.jupyter.widget-view+json": {
       "model_id": "45da17a689b54f2cb516f6942a0ceb21",
       "version_major": 2,
       "version_minor": 0
      },
      "text/plain": [
       "  0%|          | 0/71 [00:00<?, ?it/s]"
      ]
     },
     "metadata": {},
     "output_type": "display_data"
    },
    {
     "name": "stdout",
     "output_type": "stream",
     "text": [
      "Computing CMC and mAP ...\n",
      "Computed rank metrics on 849 examples\n",
      "** Avg Results **\n",
      "mAP: 42.4%\n",
      "CMC curve\n",
      "Rank-1  : 53.9%\n",
      "Rank-5  : 66.9%\n",
      "Rank-10 : 72.6%\n",
      "Rank-20 : 78.9%\n",
      "** beluga_whale-up Results **\n",
      "mAP: 42.4%\n",
      "CMC curve\n",
      "Rank-1  : 53.9%\n",
      "Rank-5  : 66.9%\n",
      "Rank-10 : 72.6%\n",
      "Rank-20 : 78.9%\n",
      "** Avg Results **\n",
      "mAP: 42.4%\n",
      "CMC curve\n",
      "Rank-1  : 53.9%\n",
      "Rank-5  : 66.9%\n",
      "Rank-10 : 72.6%\n",
      "Rank-20 : 78.9%\n",
      "Group average score:  0.42436280846595764\n",
      "best model found for epoch 4\n"
     ]
    },
    {
     "data": {
      "application/vnd.jupyter.widget-view+json": {
       "model_id": "",
       "version_major": 2,
       "version_minor": 0
      },
      "text/plain": [
       "VBox(children=(Label(value='0.014 MB of 0.014 MB uploaded\\r'), FloatProgress(value=1.0, max=1.0)))"
      ]
     },
     "metadata": {},
     "output_type": "display_data"
    },
    {
     "data": {
      "text/html": [
       "W&B sync reduced upload amount by 8.0%             "
      ],
      "text/plain": [
       "<IPython.core.display.HTML object>"
      ]
     },
     "metadata": {},
     "output_type": "display_data"
    },
    {
     "data": {
      "text/html": [
       "<style>\n",
       "    table.wandb td:nth-child(1) { padding: 0 10px; text-align: left ; width: auto;} td:nth-child(2) {text-align: left ; width: 100%}\n",
       "    .wandb-row { display: flex; flex-direction: row; flex-wrap: wrap; justify-content: flex-start; width: 100% }\n",
       "    .wandb-col { display: flex; flex-direction: column; flex-basis: 100%; flex: 1; padding: 10px; }\n",
       "    </style>\n",
       "<div class=\"wandb-row\"><div class=\"wandb-col\"><h3>Run history:</h3><br/><table class=\"wandb\"><tr><td>Avg - Rank-1  </td><td>▁▂▅▇█</td></tr><tr><td>Avg - Rank-10 </td><td>▁▄▆▇█</td></tr><tr><td>Avg - Rank-20 </td><td>▁▄▆▇█</td></tr><tr><td>Avg - Rank-5  </td><td>▁▄▆▇█</td></tr><tr><td>Avg - mAP</td><td>▁▂▄▆█</td></tr><tr><td>beluga_whale-up - Rank-1  </td><td>▁▂▅▇█</td></tr><tr><td>beluga_whale-up - Rank-10 </td><td>▁▄▆▇█</td></tr><tr><td>beluga_whale-up - Rank-20 </td><td>▁▄▆▇█</td></tr><tr><td>beluga_whale-up - Rank-5  </td><td>▁▄▆▇█</td></tr><tr><td>beluga_whale-up - mAP</td><td>▁▂▄▆█</td></tr><tr><td>epoch</td><td>▁▃▅▆█</td></tr><tr><td>lr</td><td>▁▃▄▆█</td></tr><tr><td>train loss</td><td>██▆▄▁</td></tr></table><br/></div><div class=\"wandb-col\"><h3>Run summary:</h3><br/><table class=\"wandb\"><tr><td>Avg - Rank-1  </td><td>0.53946</td></tr><tr><td>Avg - Rank-10 </td><td>0.72556</td></tr><tr><td>Avg - Rank-20 </td><td>0.78916</td></tr><tr><td>Avg - Rank-5  </td><td>0.66902</td></tr><tr><td>Avg - mAP</td><td>0.42436</td></tr><tr><td>beluga_whale-up - Rank-1  </td><td>0.53946</td></tr><tr><td>beluga_whale-up - Rank-10 </td><td>0.72556</td></tr><tr><td>beluga_whale-up - Rank-20 </td><td>0.78916</td></tr><tr><td>beluga_whale-up - Rank-5  </td><td>0.66902</td></tr><tr><td>beluga_whale-up - mAP</td><td>0.42436</td></tr><tr><td>epoch</td><td>4</td></tr><tr><td>lr</td><td>0.00061</td></tr><tr><td>train loss</td><td>10.53451</td></tr></table><br/></div></div>"
      ],
      "text/plain": [
       "<IPython.core.display.HTML object>"
      ]
     },
     "metadata": {},
     "output_type": "display_data"
    },
    {
     "data": {
      "text/html": [
       " View run <strong style=\"color:#cdcd00\">beluga-example-exp-1</strong> at: <a href='https://wandb.ai/lashao/miewid-training/runs/psep5t4t/workspace' target=\"_blank\">https://wandb.ai/lashao/miewid-training/runs/psep5t4t/workspace</a><br/>Synced 6 W&B file(s), 0 media file(s), 2 artifact file(s) and 0 other file(s)"
      ],
      "text/plain": [
       "<IPython.core.display.HTML object>"
      ]
     },
     "metadata": {},
     "output_type": "display_data"
    },
    {
     "data": {
      "text/html": [
       "Find logs at: <code>./wandb/run-20240706_004556-psep5t4t/logs</code>"
      ],
      "text/plain": [
       "<IPython.core.display.HTML object>"
      ]
     },
     "metadata": {},
     "output_type": "display_data"
    },
    {
     "data": {
      "text/plain": [
       "0.42436280846595764"
      ]
     },
     "execution_count": 13,
     "metadata": {},
     "output_type": "execute_result"
    }
   ],
   "source": [
    "trainer = Trainer(config)\n",
    "trainer.run()"
   ]
  }
 ],
 "metadata": {
  "kernelspec": {
   "display_name": "Python 3 (ipykernel)",
   "language": "python",
   "name": "python3"
  },
  "language_info": {
   "codemirror_mode": {
    "name": "ipython",
    "version": 3
   },
   "file_extension": ".py",
   "mimetype": "text/x-python",
   "name": "python",
   "nbconvert_exporter": "python",
   "pygments_lexer": "ipython3",
   "version": "3.10.13"
  }
 },
 "nbformat": 4,
 "nbformat_minor": 5
}
